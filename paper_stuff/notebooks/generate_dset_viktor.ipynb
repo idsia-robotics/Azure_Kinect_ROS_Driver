{
 "cells": [
  {
   "cell_type": "code",
   "execution_count": 87,
   "id": "4d8cfe84",
   "metadata": {},
   "outputs": [],
   "source": [
    "import h5py\n",
    "import numpy as np\n",
    "import pandas as pd\n",
    "from datetime import datetime, timedelta\n",
    "from glob import glob\n",
    "\n",
    "from scipy.spatial.transform import Rotation as R"
   ]
  },
  {
   "cell_type": "code",
   "execution_count": 88,
   "id": "eb9613ac",
   "metadata": {},
   "outputs": [],
   "source": [
    "label_f = \"negative\"\n",
    "p = f\"/home/gabri/bags/SERMAS/viktor/{label_f}/\"\n",
    "lbl = False if label_f==\"negative\" else True\n",
    "\n",
    "hfiles = glob(p+\"*.h5\")\n",
    "hfiles.sort()"
   ]
  },
  {
   "cell_type": "code",
   "execution_count": 89,
   "id": "ec5d4cad",
   "metadata": {},
   "outputs": [],
   "source": [
    "col_names = ['id_0', 'seconds_0', 'nanoseconds_0', 'j_0_x', 'j_0_y', 'j_0_z', 'j_0_orient_x', 'j_0_orient_y', 'j_0_orient_z', 'j_0_orient_w', 'id_1', 'seconds_1', 'nanoseconds_1', 'j_1_x', 'j_1_y', 'j_1_z', 'j_1_orient_x', 'j_1_orient_y', 'j_1_orient_z', 'j_1_orient_w', 'id_2', 'seconds_2', 'nanoseconds_2', 'j_2_x', 'j_2_y', 'j_2_z', 'j_2_orient_x', 'j_2_orient_y', 'j_2_orient_z', 'j_2_orient_w', 'id_3', 'seconds_3', 'nanoseconds_3', 'j_3_x', 'j_3_y', 'j_3_z', 'j_3_orient_x', 'j_3_orient_y', 'j_3_orient_z', 'j_3_orient_w', 'id_4', 'seconds_4', 'nanoseconds_4', 'j_4_x', 'j_4_y', 'j_4_z', 'j_4_orient_x', 'j_4_orient_y', 'j_4_orient_z', 'j_4_orient_w', 'id_5', 'seconds_5', 'nanoseconds_5', 'j_5_x', 'j_5_y', 'j_5_z', 'j_5_orient_x', 'j_5_orient_y', 'j_5_orient_z', 'j_5_orient_w', 'id_6', 'seconds_6', 'nanoseconds_6', 'j_6_x', 'j_6_y', 'j_6_z', 'j_6_orient_x', 'j_6_orient_y', 'j_6_orient_z', 'j_6_orient_w', 'id_7', 'seconds_7', 'nanoseconds_7', 'j_7_x', 'j_7_y', 'j_7_z', 'j_7_orient_x', 'j_7_orient_y', 'j_7_orient_z', 'j_7_orient_w', 'id_8', 'seconds_8', 'nanoseconds_8', 'j_8_x', 'j_8_y', 'j_8_z', 'j_8_orient_x', 'j_8_orient_y', 'j_8_orient_z', 'j_8_orient_w', 'id_9', 'seconds_9', 'nanoseconds_9', 'j_9_x', 'j_9_y', 'j_9_z', 'j_9_orient_x', 'j_9_orient_y', 'j_9_orient_z', 'j_9_orient_w', 'id_10', 'seconds_10', 'nanoseconds_10', 'j_10_x', 'j_10_y', 'j_10_z', 'j_10_orient_x', 'j_10_orient_y', 'j_10_orient_z', 'j_10_orient_w', 'id_11', 'seconds_11', 'nanoseconds_11', 'j_11_x', 'j_11_y', 'j_11_z', 'j_11_orient_x', 'j_11_orient_y', 'j_11_orient_z', 'j_11_orient_w', 'id_12', 'seconds_12', 'nanoseconds_12', 'j_12_x', 'j_12_y', 'j_12_z', 'j_12_orient_x', 'j_12_orient_y', 'j_12_orient_z', 'j_12_orient_w', 'id_13', 'seconds_13', 'nanoseconds_13', 'j_13_x', 'j_13_y', 'j_13_z', 'j_13_orient_x', 'j_13_orient_y', 'j_13_orient_z', 'j_13_orient_w', 'id_14', 'seconds_14', 'nanoseconds_14', 'j_14_x', 'j_14_y', 'j_14_z', 'j_14_orient_x', 'j_14_orient_y', 'j_14_orient_z', 'j_14_orient_w', 'id_15', 'seconds_15', 'nanoseconds_15', 'j_15_x', 'j_15_y', 'j_15_z', 'j_15_orient_x', 'j_15_orient_y', 'j_15_orient_z', 'j_15_orient_w', 'id_16', 'seconds_16', 'nanoseconds_16', 'j_16_x', 'j_16_y', 'j_16_z', 'j_16_orient_x', 'j_16_orient_y', 'j_16_orient_z', 'j_16_orient_w', 'id_17', 'seconds_17', 'nanoseconds_17', 'j_17_x', 'j_17_y', 'j_17_z', 'j_17_orient_x', 'j_17_orient_y', 'j_17_orient_z', 'j_17_orient_w', 'id_18', 'seconds_18', 'nanoseconds_18', 'j_18_x', 'j_18_y', 'j_18_z', 'j_18_orient_x', 'j_18_orient_y', 'j_18_orient_z', 'j_18_orient_w', 'id_19', 'seconds_19', 'nanoseconds_19', 'j_19_x', 'j_19_y', 'j_19_z', 'j_19_orient_x', 'j_19_orient_y', 'j_19_orient_z', 'j_19_orient_w', 'id_20', 'seconds_20', 'nanoseconds_20', 'j_20_x', 'j_20_y', 'j_20_z', 'j_20_orient_x', 'j_20_orient_y', 'j_20_orient_z', 'j_20_orient_w', 'id_21', 'seconds_21', 'nanoseconds_21', 'j_21_x', 'j_21_y', 'j_21_z', 'j_21_orient_x', 'j_21_orient_y', 'j_21_orient_z', 'j_21_orient_w', 'id_22', 'seconds_22', 'nanoseconds_22', 'j_22_x', 'j_22_y', 'j_22_z', 'j_22_orient_x', 'j_22_orient_y', 'j_22_orient_z', 'j_22_orient_w', 'id_23', 'seconds_23', 'nanoseconds_23', 'j_23_x', 'j_23_y', 'j_23_z', 'j_23_orient_x', 'j_23_orient_y', 'j_23_orient_z', 'j_23_orient_w', 'id_24', 'seconds_24', 'nanoseconds_24', 'j_24_x', 'j_24_y', 'j_24_z', 'j_24_orient_x', 'j_24_orient_y', 'j_24_orient_z', 'j_24_orient_w', 'id_25', 'seconds_25', 'nanoseconds_25', 'j_25_x', 'j_25_y', 'j_25_z', 'j_25_orient_x', 'j_25_orient_y', 'j_25_orient_z', 'j_25_orient_w', 'id_26', 'seconds_26', 'nanoseconds_26', 'j_26_x', 'j_26_y', 'j_26_z', 'j_26_orient_x', 'j_26_orient_y', 'j_26_orient_z', 'j_26_orient_w', 'id_27', 'seconds_27', 'nanoseconds_27', 'j_27_x', 'j_27_y', 'j_27_z', 'j_27_orient_x', 'j_27_orient_y', 'j_27_orient_z', 'j_27_orient_w', 'id_28', 'seconds_28', 'nanoseconds_28', 'j_28_x', 'j_28_y', 'j_28_z', 'j_28_orient_x', 'j_28_orient_y', 'j_28_orient_z', 'j_28_orient_w', 'id_29', 'seconds_29', 'nanoseconds_29', 'j_29_x', 'j_29_y', 'j_29_z', 'j_29_orient_x', 'j_29_orient_y', 'j_29_orient_z', 'j_29_orient_w', 'id_30', 'seconds_30', 'nanoseconds_30', 'j_30_x', 'j_30_y', 'j_30_z', 'j_30_orient_x', 'j_30_orient_y', 'j_30_orient_z', 'j_30_orient_w', 'id_31', 'seconds_31', 'nanoseconds_31', 'j_31_x', 'j_31_y', 'j_31_z', 'j_31_orient_x', 'j_31_orient_y', 'j_31_orient_z', 'j_31_orient_w']\n",
    "torso_r = list(range(1, 2))\n",
    "head_r = list(range(26, 27))\n",
    "r_hand_r = list(range(14, 18))\n",
    "l_hand_r = list(range(7, 11))"
   ]
  },
  {
   "cell_type": "code",
   "execution_count": 90,
   "id": "b7d6c3f9",
   "metadata": {},
   "outputs": [],
   "source": [
    "import PyKDL\n",
    "\n",
    "\"\"\"\n",
    "Vector3(x=0.0, y=0.0, z=0.0017999999690800905), \n",
    "Quaternion(x=0.5254827454987591, y=-0.5254827454987588, z=0.473146789255815, w=-0.4731467892558148))\n",
    "\"\"\"\n",
    "pos = PyKDL.Vector(x=0.0, y=0.0, z=0.0017999999690800905)\n",
    "rot = PyKDL.Rotation.Quaternion(x=0.5254827454987591, \n",
    "                                y=-0.5254827454987588, \n",
    "                                z=0.473146789255815, \n",
    "                                w=-0.4731467892558148)\n",
    "tform = PyKDL.Frame(V=pos, R=rot)"
   ]
  },
  {
   "cell_type": "code",
   "execution_count": 91,
   "id": "760b82f1",
   "metadata": {},
   "outputs": [],
   "source": [
    "def transform(row):\n",
    "    for j in range(32):\n",
    "        x,y,z = [f\"j_{j}_{c}\" for c in \"xyz\"]\n",
    "        qx, qy, qz, qw = [f\"j_{j}_orient_{c}\" for c in \"xyzw\"]\n",
    "        pos = PyKDL.Vector(x=row[x], \n",
    "                           y=row[y], \n",
    "                           z=row[z])\n",
    "        rot = PyKDL.Rotation.Quaternion(\n",
    "                            x=row[qx],\n",
    "                            y=row[qy],\n",
    "                            z=row[qz],\n",
    "                            w=row[qw],)\n",
    "        t_pose = tform * PyKDL.Frame(V=pos, R=rot)\n",
    "        row[x], row[y], row[z] = t_pose.p\n",
    "        row[qx], row[qy], row[qz], row[qw] = t_pose.M.GetQuaternion()   \n",
    "    return row"
   ]
  },
  {
   "cell_type": "code",
   "execution_count": 92,
   "id": "50f1b31e",
   "metadata": {},
   "outputs": [],
   "source": [
    "dfs = []\n",
    "seq = 0\n",
    "\n",
    "for hfile in hfiles:\n",
    "    with h5py.File(hfile, 'r') as df:\n",
    "        body = 'body_tracking_data:data'\n",
    "        df_body = np.array(df[body]).reshape(df[body].shape[0], df[body].shape[1] * df[body].shape[2])\n",
    "        \n",
    "        df = pd.DataFrame(data=df_body, columns=col_names)\n",
    "        df['timestamp'] = ((df['seconds_0']* 1000000000 + df['nanoseconds_0'])/1000000000).apply(datetime.fromtimestamp)\n",
    "        df['body_id'] = (df['id_0']//100).astype(int)\n",
    "        if (len(np.unique(df['body_id']))>1):\n",
    "            continue\n",
    "        \n",
    "        for i in range(32):\n",
    "            df = df.drop(columns=[f'id_{i}', f'seconds_{i}', f'nanoseconds_{i}'])\n",
    "        df[['sample_id', 'new_label']] = seq, lbl\n",
    "        seq += 1\n",
    "        \n",
    "        df = df.apply(transform, axis=1)\n",
    "        # compute orientation\n",
    "        for j in torso_r + head_r:\n",
    "            q_cols = [f'j_{j}_orient_{q}' for q in 'xyzw']\n",
    "            quat = df[q_cols]\n",
    "            rot = R.from_quat(quat).as_matrix()\n",
    "            yhat = rot @ np.array([0, 1, 0])\n",
    "            ori = np.arctan2(yhat[:, 1], yhat[:, 0])\n",
    "            df[f'j_{j}_orientation'] = ori\n",
    "            df[f'j_{j}_sin'] = np.sin(ori)\n",
    "            df[f'j_{j}_cos'] = np.cos(ori)\n",
    "\n",
    "        # compute distance\n",
    "        df['xy_dist'] = np.linalg.norm(df[['j_1_x', 'j_1_y']], axis=1)\n",
    "        \n",
    "        # compute speed for each sample\n",
    "        df[[f'j_{j}_{c}_v' for j in torso_r for c in 'xy']] = 0.0\n",
    "        for sample_id in df['sample_id'].unique():\n",
    "            vals = df.loc[df['sample_id']==sample_id, [f'j_{j}_{c}' for j in torso_r for c in 'xy']].diff().values\n",
    "            vals[0] = 0. # to fill the nan\n",
    "            dts = df.loc[df['sample_id']==sample_id, 'timestamp'].diff().dt.total_seconds().values\n",
    "            dts[0] = dts[1] # to fill the nan\n",
    "            df.loc[df['sample_id']==sample_id, [f'j_{j}_{c}_v' for j in torso_r for c in 'xy']] = vals/dts[:, None]\n",
    "        \n",
    "        dfs.append(df)"
   ]
  },
  {
   "cell_type": "code",
   "execution_count": 93,
   "id": "f4553817",
   "metadata": {},
   "outputs": [],
   "source": [
    "neg_df = pd.concat(dfs)"
   ]
  },
  {
   "cell_type": "code",
   "execution_count": 94,
   "id": "c40a2a51",
   "metadata": {},
   "outputs": [],
   "source": [
    "label_f = \"positive\"\n",
    "p = f\"/home/gabri/bags/SERMAS/viktor/{label_f}/\"\n",
    "lbl = False if label_f==\"negative\" else True\n",
    "\n",
    "hfiles = glob(p+\"*.h5\")\n",
    "hfiles.sort()"
   ]
  },
  {
   "cell_type": "code",
   "execution_count": 95,
   "id": "9704fedc",
   "metadata": {},
   "outputs": [],
   "source": [
    "dfs = []\n",
    "seq = 0\n",
    "\n",
    "for hfile in hfiles:\n",
    "    with h5py.File(hfile, 'r') as df:\n",
    "        body = 'body_tracking_data:data'\n",
    "        df_body = np.array(df[body]).reshape(df[body].shape[0], df[body].shape[1] * df[body].shape[2])\n",
    "        \n",
    "        df = pd.DataFrame(data=df_body, columns=col_names)\n",
    "        df['timestamp'] = ((df['seconds_0']* 1000000000 + df['nanoseconds_0'])/1000000000).apply(datetime.fromtimestamp)\n",
    "        df['body_id'] = (df['id_0']//100).astype(int)\n",
    "        if (len(np.unique(df['body_id']))>1):\n",
    "            continue\n",
    "        \n",
    "        for i in range(32):\n",
    "            df = df.drop(columns=[f'id_{i}', f'seconds_{i}', f'nanoseconds_{i}'])\n",
    "        df[['sample_id', 'new_label']] = seq, lbl\n",
    "        seq += 1\n",
    "        \n",
    "        df = df.apply(transform, axis=1)\n",
    "        \n",
    "        # compute orientation\n",
    "        for j in torso_r + head_r:\n",
    "            q_cols = [f'j_{j}_orient_{q}' for q in 'xyzw']\n",
    "            quat = df[q_cols]\n",
    "            rot = R.from_quat(quat).as_matrix()\n",
    "            yhat = rot @ np.array([0, 1, 0])\n",
    "            ori = np.arctan2(yhat[:, 1], yhat[:, 0])\n",
    "            df[f'j_{j}_orientation'] = ori\n",
    "            df[f'j_{j}_sin'] = np.sin(ori)\n",
    "            df[f'j_{j}_cos'] = np.cos(ori)\n",
    "\n",
    "        # compute distance\n",
    "        df['xy_dist'] = np.linalg.norm(df[['j_1_x', 'j_1_y']], axis=1)\n",
    "        \n",
    "        # compute speed for each sample\n",
    "        df[[f'j_{j}_{c}_v' for j in torso_r for c in 'xy']] = 0.0\n",
    "        for sample_id in df['sample_id'].unique():\n",
    "            vals = df.loc[df['sample_id']==sample_id, [f'j_{j}_{c}' for j in torso_r for c in 'xy']].diff().values\n",
    "            vals[0] = 0. # to fill the nan\n",
    "            dts = df.loc[df['sample_id']==sample_id, 'timestamp'].diff().dt.total_seconds().values\n",
    "            dts[0] = dts[1] # to fill the nan\n",
    "            df.loc[df['sample_id']==sample_id, [f'j_{j}_{c}_v' for j in torso_r for c in 'xy']] = vals/dts[:, None]\n",
    "        \n",
    "        dfs.append(df)"
   ]
  },
  {
   "cell_type": "code",
   "execution_count": 96,
   "id": "a134d1ec",
   "metadata": {},
   "outputs": [],
   "source": [
    "pos_df = pd.concat(dfs)"
   ]
  },
  {
   "cell_type": "code",
   "execution_count": 97,
   "id": "0d72ed59",
   "metadata": {},
   "outputs": [],
   "source": [
    "dfs = [neg_df, pos_df]"
   ]
  },
  {
   "cell_type": "code",
   "execution_count": 98,
   "id": "41745e7e",
   "metadata": {},
   "outputs": [
    {
     "name": "stdout",
     "output_type": "stream",
     "text": [
      "min_id: 0, max_id: 29\n",
      "min_id: 30, max_id: 57\n"
     ]
    }
   ],
   "source": [
    "for i in range(1, len(dfs)):\n",
    "    max_id = np.max(dfs[i-1]['sample_id'])+1\n",
    "    dfs[i]['sample_id'] += max_id\n",
    "\n",
    "for df in dfs:\n",
    "    print(f\"min_id: {df['sample_id'].min()}, max_id: {df['sample_id'].max()}\")\n",
    "\n",
    "df = pd.concat(dfs).reset_index()"
   ]
  },
  {
   "cell_type": "code",
   "execution_count": 203,
   "id": "d9a29f64",
   "metadata": {},
   "outputs": [],
   "source": [
    "df2 = df.copy()\n",
    "\n",
    "df2['j_1_y'] = -df2['j_1_y']\n",
    "df2['j_1_y_v'] = -df2['j_1_y_v']\n",
    "df2['j_1_orientation'] = -df2['j_1_orientation']\n",
    "df2['j_26_orientation'] = -df2['j_26_orientation']\n",
    "\n",
    "df2['j_1_sin'] = np.sin(df2['j_1_orientation'])\n",
    "df2['j_1_cos'] = np.cos(df2['j_1_orientation'])\n",
    "\n",
    "df2['j_26_sin'] = np.sin(df2['j_26_orientation'])\n",
    "df2['j_26_cos'] = np.cos(df2['j_26_orientation'])\n",
    "df2['sample_id'] += np.max(df['sample_id'])+1\n",
    "\n",
    "df3 = pd.concat([df, df2])"
   ]
  },
  {
   "cell_type": "code",
   "execution_count": 99,
   "id": "fb67ad95",
   "metadata": {},
   "outputs": [],
   "source": [
    "import pickle\n",
    "with open(f'ds_viktor.pkl', 'wb') as f:\n",
    "    pickle.dump(df, f)"
   ]
  },
  {
   "cell_type": "code",
   "execution_count": 84,
   "id": "4561bae8",
   "metadata": {},
   "outputs": [
    {
     "data": {
      "text/plain": [
       "<AxesSubplot:xlabel='j_0_x', ylabel='j_0_y'>"
      ]
     },
     "execution_count": 84,
     "metadata": {},
     "output_type": "execute_result"
    },
    {
     "data": {
      "image/png": "[encoded data removed]",
      "text/plain": [
       "<Figure size 640x480 with 1 Axes>"
      ]
     },
     "metadata": {},
     "output_type": "display_data"
    }
   ],
   "source": [
    "df[df['sample_id']==0].plot.scatter('j_0_x', 'j_0_y')"
   ]
  },
  {
   "cell_type": "code",
   "execution_count": null,
   "id": "4952d8e5",
   "metadata": {},
   "outputs": [],
   "source": []
  }
 ],
 "metadata": {
  "kernelspec": {
   "display_name": "Python 3 (ipykernel)",
   "language": "python",
   "name": "python3"
  },
  "language_info": {
   "codemirror_mode": {
    "name": "ipython",
    "version": 3
   },
   "file_extension": ".py",
   "mimetype": "text/x-python",
   "name": "python",
   "nbconvert_exporter": "python",
   "pygments_lexer": "ipython3",
   "version": "3.10.6"
  }
 },
 "nbformat": 4,
 "nbformat_minor": 5
}
